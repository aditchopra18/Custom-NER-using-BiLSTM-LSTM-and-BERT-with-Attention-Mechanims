{
 "cells": [
  {
   "cell_type": "markdown",
   "metadata": {},
   "source": [
    "# Importing the Libraries"
   ]
  },
  {
   "cell_type": "code",
   "execution_count": 1,
   "metadata": {},
   "outputs": [],
   "source": [
    "import re\n",
    "import torch\n",
    "import torch.nn as nn\n",
    "import torch.optim as optim\n",
    "from torch.utils.data import Dataset, DataLoader\n",
    "from sklearn.preprocessing import LabelEncoder\n",
    "from sklearn.metrics import classification_report\n",
    "import matplotlib.pyplot as plt\n",
    "import seaborn as sns\n",
    "\n",
    "# Importing the relevant files\n",
    "train_file = '../../Data/NCBItrainset_corpus.txt'\n",
    "dev_file = '../../Data/NCBIdevelopset_corpus.txt'\n",
    "model_name = '../../Models/BiLSTM_CrossAttention_NER_model.pth'\n"
   ]
  },
  {
   "cell_type": "markdown",
   "metadata": {},
   "source": [
    "# Data Preparation"
   ]
  },
  {
   "cell_type": "code",
   "execution_count": 2,
   "metadata": {},
   "outputs": [],
   "source": [
    "# Reading and parsing the dataset file\n",
    "def read_dataset(file_path):\n",
    "    with open(file_path, \"r\") as file:\n",
    "        lines = file.readlines()\n",
    "    return lines\n",
    "\n",
    "def parse_dataset(lines):\n",
    "    paragraphs, paragraph = [], []\n",
    "    for line in lines:\n",
    "        line = line.strip()\n",
    "        if line:\n",
    "            paragraph.append(line)\n",
    "        else:\n",
    "            if paragraph:\n",
    "                paragraphs.append(paragraph)\n",
    "                paragraph = []\n",
    "    if paragraph:\n",
    "        paragraphs.append(paragraph)\n",
    "    return paragraphs"
   ]
  },
  {
   "cell_type": "code",
   "execution_count": 3,
   "metadata": {},
   "outputs": [],
   "source": [
    "def parse_paragraph(paragraph):\n",
    "    sentences, annotations, sentence = [], [], []\n",
    "    for line in paragraph:\n",
    "        if re.match(r'^\\d+\\|\\w\\|', line):\n",
    "            sentence.extend(line.split('|')[2].split())\n",
    "        elif re.match(r'^\\d+\\t\\d+\\t\\d+\\t', line):\n",
    "            start, end = int(line.split(\"\\t\")[1]), int(line.split(\"\\t\")[2])\n",
    "            annotations.append((start, end, line.split(\"\\t\")[3], line.split(\"\\t\")[4]))\n",
    "    if sentence:\n",
    "        sentences.append(sentence)\n",
    "    return sentences, annotations"
   ]
  },
  {
   "cell_type": "markdown",
   "metadata": {},
   "source": [
    "## Tagging the words based on character limits"
   ]
  },
  {
   "cell_type": "code",
   "execution_count": 4,
   "metadata": {},
   "outputs": [],
   "source": [
    "def tag_annotations(sentences, annotations):\n",
    "    tagged_sentences = []\n",
    "    for sentence in sentences:\n",
    "        tags = ['O'] * len(sentence)\n",
    "        word_starts, word_ends, char_pos = [], [], 0\n",
    "        for word in sentence:\n",
    "            word_starts.append(char_pos)\n",
    "            char_pos += len(word)\n",
    "            word_ends.append(char_pos)\n",
    "            char_pos += 1\n",
    "        for start, end, _, label in annotations:\n",
    "            for i, (word_start, word_end) in enumerate(zip(word_starts, word_ends)):\n",
    "                if word_start >= start and word_end <= end:\n",
    "                    tags[i] = 'I-' + label\n",
    "                elif word_start < start < word_end or word_start < end < word_end:\n",
    "                    tags[i] = 'I-' + label\n",
    "        tagged_sentences.append((sentence, tags))\n",
    "    return tagged_sentences"
   ]
  },
  {
   "cell_type": "code",
   "execution_count": 5,
   "metadata": {},
   "outputs": [],
   "source": [
    "# Prepare the data\n",
    "lines = read_dataset(train_file)\n",
    "paragraphs = parse_dataset(lines)\n",
    "all_sentences, all_tags = [], []\n",
    "for paragraph in paragraphs:\n",
    "    s, a = parse_paragraph(paragraph)\n",
    "    tagged_sentences = tag_annotations(s, a)\n",
    "    for sentence, tag in tagged_sentences:\n",
    "        all_sentences.append(sentence)\n",
    "        all_tags.append(tag)\n",
    "\n",
    "# Prepare development data\n",
    "dev_lines = read_dataset(dev_file)\n",
    "dev_paragraphs = parse_dataset(dev_lines)\n",
    "dev_sentences, dev_tags = [], []\n",
    "for paragraph in dev_paragraphs:\n",
    "    s, a = parse_paragraph(paragraph)\n",
    "    tagged_sentences = tag_annotations(s, a)\n",
    "    for sentence, tag in tagged_sentences:\n",
    "        dev_sentences.append(sentence)\n",
    "        dev_tags.append(tag)\n"
   ]
  },
  {
   "cell_type": "code",
   "execution_count": 6,
   "metadata": {},
   "outputs": [],
   "source": [
    "class LSTM_Attention_NERDataset(Dataset):\n",
    "    def __init__(self, sentences, tags, word_encoder, tag_encoder, unknown_token='<UNK>'):\n",
    "        self.sentences = sentences\n",
    "        self.tags = tags\n",
    "        self.word_encoder = word_encoder\n",
    "        self.tag_encoder = tag_encoder\n",
    "        self.unknown_token = unknown_token\n",
    "\n",
    "    def __len__(self):\n",
    "        return len(self.sentences)\n",
    "\n",
    "    def __getitem__(self, idx):\n",
    "        sentence = self.sentences[idx]\n",
    "        tags = self.tags[idx]\n",
    "        sentence_encoded = [self.word_encoder.get(word, self.word_encoder[self.unknown_token]) for word in sentence]\n",
    "        tags_encoded = self.tag_encoder.transform(tags)\n",
    "        return torch.tensor(sentence_encoded), torch.tensor(tags_encoded, dtype=torch.long)\n"
   ]
  },
  {
   "cell_type": "code",
   "execution_count": 7,
   "metadata": {},
   "outputs": [],
   "source": [
    "all_words = [word for sentence in all_sentences for word in sentence]\n",
    "all_tags_flat = [tag for tags in all_tags for tag in tags]\n",
    "\n",
    "word_encoder = {word: idx for idx, word in enumerate(set(all_words))}\n",
    "unknown_token = '<UNK>'\n",
    "word_encoder[unknown_token] = len(word_encoder)\n",
    "\n",
    "tag_encoder = LabelEncoder()\n",
    "tag_encoder.fit(all_tags_flat)\n",
    "\n",
    "dataset = LSTM_Attention_NERDataset(all_sentences, all_tags, word_encoder, tag_encoder, unknown_token)\n",
    "dataloader = DataLoader(dataset, batch_size=32, shuffle=True, collate_fn=lambda x: x)\n"
   ]
  },
  {
   "cell_type": "markdown",
   "metadata": {},
   "source": [
    "# Cross Attention Class Definition"
   ]
  },
  {
   "cell_type": "code",
   "execution_count": 8,
   "metadata": {},
   "outputs": [],
   "source": [
    "class CrossAttention(nn.Module):\n",
    "    def __init__(self, hidden_dim):\n",
    "        super(CrossAttention, self).__init__()\n",
    "        self.query = nn.Linear(hidden_dim, hidden_dim, bias=False)\n",
    "        self.key = nn.Linear(hidden_dim, hidden_dim, bias=False)\n",
    "        self.value = nn.Linear(hidden_dim, hidden_dim, bias=False)\n",
    "        self.softmax = nn.Softmax(dim=-1)\n",
    "\n",
    "    def forward(self, query, key, value):\n",
    "        query_proj = self.query(query)\n",
    "        key_proj = self.key(key)\n",
    "        value_proj = self.value(value)\n",
    "        attention_scores = torch.matmul(query_proj, key_proj.transpose(-2, -1))\n",
    "        attention_weights = self.softmax(attention_scores)\n",
    "        context = torch.matmul(attention_weights, value_proj)\n",
    "        return context\n"
   ]
  },
  {
   "cell_type": "code",
   "execution_count": 9,
   "metadata": {},
   "outputs": [],
   "source": [
    "class BiLSTM_CrossAttention_NER_Model(nn.Module):\n",
    "    def __init__(self, vocab_size, tagset_size, embedding_dim=128, hidden_dim=128):\n",
    "        super(BiLSTM_CrossAttention_NER_Model, self).__init__()\n",
    "        self.embedding = nn.Embedding(vocab_size, embedding_dim)\n",
    "        self.bilstm = nn.LSTM(embedding_dim, hidden_dim, batch_first=True, bidirectional=True)\n",
    "        self.cross_attention = CrossAttention(hidden_dim * 2)\n",
    "        self.fc = nn.Linear(hidden_dim * 2, tagset_size)\n",
    "\n",
    "    def forward(self, x):\n",
    "        emb = self.embedding(x)\n",
    "        bilstm_out, _ = self.bilstm(emb)\n",
    "        cross_att_out = self.cross_attention(bilstm_out, bilstm_out, bilstm_out)\n",
    "        tag_space = self.fc(cross_att_out)\n",
    "        return tag_space"
   ]
  },
  {
   "cell_type": "markdown",
   "metadata": {},
   "source": [
    "# Training Model Parameters"
   ]
  },
  {
   "cell_type": "code",
   "execution_count": 10,
   "metadata": {},
   "outputs": [],
   "source": [
    "device = torch.device(\"cuda\" if torch.cuda.is_available() else \"cpu\")\n",
    "model = BiLSTM_CrossAttention_NER_Model(len(word_encoder), len(tag_encoder.classes_)).to(device)\n",
    "criterion = nn.CrossEntropyLoss(ignore_index=-100)\n",
    "optimizer = optim.AdamW(model.parameters(), lr=0.001)\n",
    "scheduler = optim.lr_scheduler.ReduceLROnPlateau(optimizer, 'min', patience=3, factor=0.5)\n",
    "\n",
    "# Mixed Precision Training\n",
    "scaler = torch.cuda.amp.GradScaler()"
   ]
  },
  {
   "cell_type": "markdown",
   "metadata": {},
   "source": [
    "### Graph Plotting Function"
   ]
  },
  {
   "cell_type": "code",
   "execution_count": 11,
   "metadata": {},
   "outputs": [],
   "source": [
    "# Function for plotting (to be used to visualize the training loss and validation loss)\n",
    "# Used to figure if the mdoel is underfitting or overfitting\n",
    "def graph_plot(title, x_label, y_label, x_data, y_data, color = 'blue', linestyle = '-'):\n",
    "    plt.plot(x_data, y_data, color = color, linestyle = linestyle)\n",
    "    plt.xlabel(x_label)\n",
    "    plt.ylabel(y_label)\n",
    "    plt.title(title)\n",
    "    plt.savefig(\"../../Graphs/LSTM_Attention_Training.png\", bbox_inches = 'tight')"
   ]
  },
  {
   "cell_type": "markdown",
   "metadata": {},
   "source": [
    "# Training the Model"
   ]
  },
  {
   "cell_type": "code",
   "execution_count": 12,
   "metadata": {},
   "outputs": [
    {
     "name": "stdout",
     "output_type": "stream",
     "text": [
      "Epoch 1, Loss: 0.6972\n",
      "Epoch 2, Loss: 0.3729\n",
      "Epoch 3, Loss: 0.3189\n",
      "Epoch 4, Loss: 0.2879\n",
      "Epoch 5, Loss: 0.2503\n",
      "Epoch 6, Loss: 0.2136\n",
      "Epoch 7, Loss: 0.1897\n",
      "Epoch 8, Loss: 0.1723\n",
      "Epoch 9, Loss: 0.1509\n",
      "Epoch 10, Loss: 0.1381\n",
      "Epoch 11, Loss: 0.1259\n",
      "Epoch 12, Loss: 0.1184\n",
      "Epoch 13, Loss: 0.1098\n",
      "Epoch 14, Loss: 0.1013\n",
      "Epoch 15, Loss: 0.0949\n",
      "Epoch 16, Loss: 0.0881\n",
      "Epoch 17, Loss: 0.0817\n",
      "Epoch 18, Loss: 0.0764\n",
      "Epoch 19, Loss: 0.0738\n",
      "Epoch 20, Loss: 0.0642\n",
      "Epoch 21, Loss: 0.0563\n",
      "Epoch 22, Loss: 0.0476\n",
      "Epoch 23, Loss: 0.0408\n",
      "Epoch 24, Loss: 0.0375\n",
      "Epoch 25, Loss: 0.0330\n",
      "Epoch 26, Loss: 0.0314\n",
      "Epoch 27, Loss: 0.0278\n",
      "Epoch 28, Loss: 0.0224\n",
      "Epoch 29, Loss: 0.0187\n",
      "Epoch 30, Loss: 0.0167\n",
      "Epoch 31, Loss: 0.0155\n",
      "Epoch 32, Loss: 0.0142\n",
      "Epoch 33, Loss: 0.0147\n",
      "Epoch 34, Loss: 0.0143\n",
      "Epoch 35, Loss: 0.0156\n",
      "Epoch 36, Loss: 0.0123\n",
      "Epoch 37, Loss: 0.0097\n",
      "Epoch 38, Loss: 0.0082\n",
      "Epoch 39, Loss: 0.0080\n",
      "Epoch 40, Loss: 0.0074\n"
     ]
    }
   ],
   "source": [
    "# Storing the Average training losses\n",
    "loss_dic = {}\n",
    "\n",
    "# Training the Model\n",
    "for epoch in range(40):\n",
    "    model.train()\n",
    "    total_loss = 0\n",
    "    for batch in dataloader:\n",
    "        sentences, tags = zip(*batch)\n",
    "        sentences = torch.nn.utils.rnn.pad_sequence(sentences, batch_first=True).to(device)\n",
    "        tags = torch.nn.utils.rnn.pad_sequence(tags, batch_first=True, padding_value=-100).to(device)\n",
    "\n",
    "        optimizer.zero_grad()\n",
    "        with torch.cuda.amp.autocast():\n",
    "            outputs = model(sentences)\n",
    "            outputs = outputs.view(-1, outputs.shape[-1])\n",
    "            tags = tags.view(-1)\n",
    "            loss = criterion(outputs, tags)\n",
    "        \n",
    "        scaler.scale(loss).backward()\n",
    "        scaler.step(optimizer)\n",
    "        scaler.update()\n",
    "        total_loss += loss.item()\n",
    "    \n",
    "    avg_train_loss = total_loss / len(dataloader)\n",
    "    scheduler.step(avg_train_loss)\n",
    "    print(f\"Epoch {epoch + 1}, Loss: {avg_train_loss:.4f}\")\n",
    "    loss_dic[epoch] = avg_train_loss"
   ]
  },
  {
   "cell_type": "code",
   "execution_count": 20,
   "metadata": {},
   "outputs": [
    {
     "data": {
      "image/png": "[encoded data removed]",
      "text/plain": [
       "<Figure size 640x480 with 1 Axes>"
      ]
     },
     "metadata": {},
     "output_type": "display_data"
    },
    {
     "name": "stderr",
     "output_type": "stream",
     "text": [
      "No artists with labels found to put in legend.  Note that artists whose label start with an underscore are ignored when legend() is called with no argument.\n"
     ]
    },
    {
     "data": {
      "image/png": "[encoded data removed]",
      "text/plain": [
       "<Figure size 640x480 with 1 Axes>"
      ]
     },
     "metadata": {},
     "output_type": "display_data"
    }
   ],
   "source": [
    "# Drawing the Training Loss vs Epochs\n",
    "graph_plot(\"Avg Training Loss vs Epochs\", \"Epochs\", \"Avg Training Loss\", list(loss_dic.keys()), list(loss_dic.values()))"
   ]
  },
  {
   "cell_type": "code",
   "execution_count": 14,
   "metadata": {},
   "outputs": [],
   "source": [
    "# Saving the model\n",
    "torch.save(model.state_dict(), model_name)"
   ]
  },
  {
   "cell_type": "markdown",
   "metadata": {},
   "source": [
    "# Testing the Model"
   ]
  },
  {
   "cell_type": "code",
   "execution_count": 15,
   "metadata": {},
   "outputs": [],
   "source": [
    "# Testing the model, and evaluating the f1 score\n",
    "test_file = '../../Data/NCBItestset_corpus.txt'\n",
    "test_lines = read_dataset(test_file)\n",
    "test_paragraphs = parse_dataset(test_lines)"
   ]
  },
  {
   "cell_type": "code",
   "execution_count": 16,
   "metadata": {},
   "outputs": [],
   "source": [
    "# Parsing and storing the test dataset\n",
    "test_sentences = []\n",
    "test_tags = []\n",
    "\n",
    "for paragraph in test_paragraphs:\n",
    "    sentences, annotations = parse_paragraph(paragraph)\n",
    "    tagged_sentences = tag_annotations(sentences, annotations)\n",
    "    for sentence, tags in tagged_sentences:\n",
    "        test_sentences.append(sentence)\n",
    "        test_tags.append(tags)"
   ]
  },
  {
   "cell_type": "code",
   "execution_count": 17,
   "metadata": {},
   "outputs": [
    {
     "data": {
      "text/plain": [
       "BiLSTM_CrossAttention_NER_Model(\n",
       "  (embedding): Embedding(14805, 128)\n",
       "  (bilstm): LSTM(128, 128, batch_first=True, bidirectional=True)\n",
       "  (cross_attention): CrossAttention(\n",
       "    (query): Linear(in_features=256, out_features=256, bias=False)\n",
       "    (key): Linear(in_features=256, out_features=256, bias=False)\n",
       "    (value): Linear(in_features=256, out_features=256, bias=False)\n",
       "    (softmax): Softmax(dim=-1)\n",
       "  )\n",
       "  (fc): Linear(in_features=256, out_features=5, bias=True)\n",
       ")"
      ]
     },
     "execution_count": 17,
     "metadata": {},
     "output_type": "execute_result"
    }
   ],
   "source": [
    "# Importing the model file\n",
    "model = BiLSTM_CrossAttention_NER_Model(len(word_encoder), len(tag_encoder.classes_)).to(device)\n",
    "model.load_state_dict(torch.load(model_name))\n",
    "model.eval()"
   ]
  },
  {
   "cell_type": "code",
   "execution_count": 18,
   "metadata": {},
   "outputs": [
    {
     "name": "stdout",
     "output_type": "stream",
     "text": [
      "                    precision    recall  f1-score   support\n",
      "\n",
      "I-CompositeMention       0.86      0.28      0.42        89\n",
      "    I-DiseaseClass       0.15      0.63      0.24       255\n",
      "        I-Modifier       0.56      0.63      0.59       367\n",
      " I-SpecificDisease       0.77      0.54      0.63      1090\n",
      "                 O       0.98      0.96      0.97     18601\n",
      "\n",
      "          accuracy                           0.92     20402\n",
      "         macro avg       0.66      0.61      0.57     20402\n",
      "      weighted avg       0.95      0.92      0.93     20402\n",
      "\n"
     ]
    }
   ],
   "source": [
    "# Prepare the test data\n",
    "test_dataset = LSTM_Attention_NERDataset(test_sentences, test_tags, word_encoder, tag_encoder, '<UNK>')\n",
    "test_dataloader = DataLoader(test_dataset, batch_size=16, shuffle=False, collate_fn=lambda x: x)\n",
    "\n",
    "# Evaluate the model\n",
    "all_true_labels = []\n",
    "all_pred_labels = []\n",
    "\n",
    "result = \"../../Result/TestResults_CrossAttention_BiLSTM_NER.txt\"\n",
    "with open(result, 'w') as t_file:\n",
    "    with torch.no_grad():\n",
    "        for batch in test_dataloader:\n",
    "            sentences, tags = zip(*batch)\n",
    "            sentences = torch.nn.utils.rnn.pad_sequence(sentences, batch_first=True).to(device)\n",
    "            tags = torch.nn.utils.rnn.pad_sequence(tags, batch_first=True, padding_value=-100).to(device)\n",
    "\n",
    "            outputs = model(sentences)\n",
    "            outputs = outputs.view(-1, outputs.shape[-1])\n",
    "            tags = tags.view(-1)\n",
    "\n",
    "            predictions = torch.argmax(outputs, dim=1).cpu().numpy()\n",
    "            true_labels = tags.cpu().numpy()\n",
    "\n",
    "            mask = true_labels != -100\n",
    "            pred_labels = predictions[mask]\n",
    "            true_labels = true_labels[mask]\n",
    "\n",
    "            pred_labels_decoded = tag_encoder.inverse_transform(pred_labels)\n",
    "            true_labels_decoded = tag_encoder.inverse_transform(true_labels)\n",
    "\n",
    "            for true_label, pred_label in zip(true_labels_decoded, pred_labels_decoded):\n",
    "                t_file.write(f'True: {true_label}, Pred: {pred_label}\\n')\n",
    "                all_true_labels.append(true_label)\n",
    "                all_pred_labels.append(pred_label)\n",
    "\n",
    "# Printing classification report\n",
    "report = classification_report(all_true_labels, all_pred_labels)\n",
    "print (report)"
   ]
  }
 ],
 "metadata": {
  "kernelspec": {
   "display_name": "base",
   "language": "python",
   "name": "python3"
  },
  "language_info": {
   "codemirror_mode": {
    "name": "ipython",
    "version": 3
   },
   "file_extension": ".py",
   "mimetype": "text/x-python",
   "name": "python",
   "nbconvert_exporter": "python",
   "pygments_lexer": "ipython3",
   "version": "3.11.9"
  }
 },
 "nbformat": 4,
 "nbformat_minor": 2
}
